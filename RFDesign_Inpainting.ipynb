{
  "nbformat": 4,
  "nbformat_minor": 0,
  "metadata": {
    "colab": {
      "provenance": [],
      "include_colab_link": true
    },
    "kernelspec": {
      "display_name": "Python 3",
      "name": "python3"
    },
    "language_info": {
      "name": "python"
    },
    "accelerator": "GPU"
  },
  "cells": [
    {
      "cell_type": "markdown",
      "metadata": {
        "id": "view-in-github",
        "colab_type": "text"
      },
      "source": [
        "<a href=\"https://colab.research.google.com/github/karvla/RFDesign/blob/main/RFDesign_Inpainting.ipynb\" target=\"_parent\"><img src=\"https://colab.research.google.com/assets/colab-badge.svg\" alt=\"Open In Colab\"/></a>"
      ]
    },
    {
      "cell_type": "markdown",
      "metadata": {
        "id": "74RP4ByMFXHR"
      },
      "source": [
        "# RFDesign Inpainting\n",
        "Notebook for running [RosettaCommons RFDesing](https://github.com/RosettaCommons/RFDesign)\n",
        "\n",
        "Currently only inpainting is implemented but adding support for hallucination should be fairly easy\n"
      ]
    },
    {
      "cell_type": "code",
      "metadata": {
        "id": "8v06TAo9ZaGH",
        "cellView": "form"
      },
      "source": [
        "#@title ##Install dependencies and download models\n",
        "\n",
        "import os\n",
        "import sys\n",
        "from IPython.utils import io\n",
        "from google.colab import files\n",
        "\n",
        "if not os.path.isdir(\"RFDesign\"):\n",
        "    %shell git clone https://github.com/RosettaCommons/RFDesign.git\n",
        "\n",
        "    # download models\n",
        "    %shell wget http://files.ipd.uw.edu/pub/rfdesign/weights/BFF_last.pt -P RFDesign/hallucination/weights/rf_Nov05\n",
        "    %shell wget http://files.ipd.uw.edu/pub/rfdesign/weights/BFF_mix_epoch25.pt -P  RFDesign/inpainting/weights/\n",
        "\n",
        "    # install libraries\n",
        "    import torch\n",
        "    torch_v = torch.__version__\n",
        "\n",
        "    %shell pip install -q dgl-cu113 -f https://data.dgl.ai/wheels/repo.html\n",
        "    %shell pip install -q torch-scatter -f https://pytorch-geometric.com/whl/torch-{torch_v}.html\n",
        "    %shell pip install -q torch-sparse -f https://pytorch-geometric.com/whl/torch-{torch_v}.html\n",
        "    %shell pip install -q torch-geometric\n",
        "    %shell pip install -q py3Dmol\n",
        "    %shell pip install -q e3nn\n",
        "    %shell pip install -q icecream\n",
        "\n",
        "\n",
        "\n",
        "    # importing torch again here seems to solve some problem with DGL\n",
        "    # I don't know why\n",
        "    import torch\n"
      ],
      "execution_count": null,
      "outputs": []
    },
    {
      "cell_type": "code",
      "source": [
        "#@title Upload pdb\n",
        "from pathlib import Path\n",
        "uploaded = files.upload()\n",
        "pdb_path = Path(list(uploaded.keys())[0])"
      ],
      "metadata": {
        "id": "0WwUH9vZv_ot",
        "cellView": "form"
      },
      "execution_count": null,
      "outputs": []
    },
    {
      "cell_type": "code",
      "source": [
        "#@title Inpainting\n",
        "#@markdown Full description: [RFDesign/inpainting/README.md](https://github.com/RosettaCommons/RFDesign/blob/main/inpainting/README.md)\n",
        "#@markdown \n",
        "#@markdown Protein inpainting is a method for \"conditional joint protein\n",
        "#@markdown sequence/structure generation\". This means that given some combination of\n",
        "#@markdown protein sequence and structure that you have, you can use this method to\n",
        "#@markdown simultaneously generate more sequence and structure conditioned on that input. \n",
        "#@markdown \n",
        "#@markdown **Things inpainting is good at:**\n",
        "#@markdown \n",
        "#@markdown - Refining non-ideal parts of proteins \n",
        "#@markdown - Resampling protein structures near a starting structure \n",
        "#@markdown - Re-looping proteins (i.e., keep tertiary/secondary structure but changing the\n",
        "#@markdown   order in which elements appear in sequence space)\n",
        "#@markdown - Rigidly fusing two protein domains \n",
        "#@markdown - Loop building \n",
        "#@markdown - Scaffolding medium-sized motifs\n",
        "#@markdown \n",
        "#@markdown **Things that are currently challenging with inpainting:**\n",
        "#@markdown - Generating large amounts of protein from very little or no protein structure\n",
        "#@markdown   (it's worth a try, but don't expect whole proteins to come out consistently) \n",
        "#@markdown - Inpainting with excluded volumes (though it can be done)\n",
        "\n",
        "assert 'pdb_path' in locals()\n",
        "\n",
        "contigs = 'A1-3' #@param {type: \"string\"}\n",
        "num_designs = 1 #@param {type: \"integer\"}\n",
        "\n",
        "# The script doesn't exit with exit code 0 even if it succeeds\n",
        "from subprocess import CalledProcessError\n",
        "try:\n",
        "  %shell cd RFDesign/inpainting && \\\n",
        "  python inpaint.py --pdb  ../../{pdb_path.name} \\\n",
        "  --dump_pdb \\\n",
        "  --contigs  {contigs} \\\n",
        "  --num_designs {num_designs} \\\n",
        "  --out ../../{pdb_path.stem}\n",
        "except CalledProcessError:\n",
        "  pass"
      ],
      "metadata": {
        "id": "qMm7R_EmZYP-",
        "cellView": "form"
      },
      "execution_count": null,
      "outputs": []
    },
    {
      "cell_type": "code",
      "source": [
        "#@title Download results\n",
        "zip_name = f'{pdb_path.stem}_inpaintings.zip'\n",
        "%shell zip -q -r {zip_name} {pdb_path.stem}_*\n",
        "files.download(zip_name)"
      ],
      "metadata": {
        "id": "Ka8QaBmH4Lyq",
        "cellView": "form"
      },
      "execution_count": null,
      "outputs": []
    }
  ]
}